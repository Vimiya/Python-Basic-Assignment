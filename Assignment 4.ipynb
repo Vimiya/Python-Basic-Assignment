{
 "cells": [
  {
   "cell_type": "markdown",
   "id": "cb232d3e",
   "metadata": {},
   "source": [
    "1. What exactly is []? \n",
    "\n",
    "Ans:\n",
    "\n",
    "[] is a list: A mutable collection of values, usually (but not necessarily) of the same type.\n",
    "[] is creating a new list ([]) where values can be placed in that list , and these values  can then be referenced by its index."
   ]
  },
  {
   "cell_type": "code",
   "execution_count": null,
   "id": "9b3e40e3",
   "metadata": {},
   "outputs": [],
   "source": []
  },
  {
   "cell_type": "markdown",
   "id": "f8972b6c",
   "metadata": {},
   "source": [
    "2. In a list of values stored in a variable called spam, how would you assign the value 'hello' as the third value? (Assume [2, 4, 6, 8, 10] are in spam.) \n",
    "\n",
    "\n",
    "Ans:\n",
    "\n",
    "spam[2]='hello'"
   ]
  },
  {
   "cell_type": "code",
   "execution_count": null,
   "id": "35e7ea0b",
   "metadata": {},
   "outputs": [],
   "source": []
  },
  {
   "cell_type": "markdown",
   "id": "19964753",
   "metadata": {},
   "source": [
    "Let's pretend the spam includes the list ['a', 'b', 'c', 'd'] for the next three queries. \n"
   ]
  },
  {
   "cell_type": "markdown",
   "id": "26969e91",
   "metadata": {},
   "source": [
    "3. What is the value of spam[int(int('3' * 2) / 11)]? \n",
    "\n",
    "Ans:\n",
    "\n"
   ]
  },
  {
   "cell_type": "code",
   "execution_count": 6,
   "id": "433f6bc4",
   "metadata": {},
   "outputs": [
    {
     "data": {
      "text/plain": [
       "'d'"
      ]
     },
     "execution_count": 6,
     "metadata": {},
     "output_type": "execute_result"
    }
   ],
   "source": [
    "spam=['a', 'b', 'c', 'd']\n",
    "spam[int(int('3' * 2) / 11)]"
   ]
  },
  {
   "cell_type": "code",
   "execution_count": null,
   "id": "c7b345f0",
   "metadata": {},
   "outputs": [],
   "source": []
  },
  {
   "cell_type": "markdown",
   "id": "c6997828",
   "metadata": {},
   "source": [
    "4. What is the value of spam[-1]? \n",
    "\n",
    "Ans: 'd'\n"
   ]
  },
  {
   "cell_type": "code",
   "execution_count": null,
   "id": "4a20884f",
   "metadata": {},
   "outputs": [],
   "source": []
  },
  {
   "cell_type": "markdown",
   "id": "fa1d7873",
   "metadata": {},
   "source": [
    "5. What is the value of spam[:2]? \n",
    "\n",
    "Ans:\n",
    "Value of spam[:2] is ['a','b'].\n",
    "\n",
    "\n"
   ]
  },
  {
   "cell_type": "code",
   "execution_count": 10,
   "id": "e6701afc",
   "metadata": {},
   "outputs": [
    {
     "data": {
      "text/plain": [
       "['a', 'b']"
      ]
     },
     "execution_count": 10,
     "metadata": {},
     "output_type": "execute_result"
    }
   ],
   "source": [
    "spam[:2]"
   ]
  },
  {
   "cell_type": "code",
   "execution_count": null,
   "id": "5445ea4a",
   "metadata": {},
   "outputs": [],
   "source": []
  },
  {
   "cell_type": "markdown",
   "id": "a8ebdf72",
   "metadata": {},
   "source": [
    "Let's pretend bacon has the list [3.14, 'cat,' 11, 'cat,' True] for the next three questions. \n"
   ]
  },
  {
   "cell_type": "code",
   "execution_count": 13,
   "id": "0b7a153c",
   "metadata": {},
   "outputs": [],
   "source": [
    "bacon=[3.14, 'cat', 11, 'cat', True]"
   ]
  },
  {
   "cell_type": "markdown",
   "id": "6b594926",
   "metadata": {},
   "source": [
    "6. What is the value of bacon.index('cat')? \n",
    "\n",
    "Ans: 1\n",
    "\n"
   ]
  },
  {
   "cell_type": "code",
   "execution_count": null,
   "id": "f3cbac16",
   "metadata": {},
   "outputs": [],
   "source": []
  },
  {
   "cell_type": "markdown",
   "id": "e3233e5c",
   "metadata": {},
   "source": [
    "7. How does bacon.append(99) change the look of the list value in bacon? \n",
    "\n",
    "Ans: \n",
    "\n",
    "After running bacon.append(99), bacon list will be as follows:\n",
    "\n",
    "[3.14, 'cat', 11, 'cat', True, 99]\n"
   ]
  },
  {
   "cell_type": "code",
   "execution_count": 17,
   "id": "82e7ccb8",
   "metadata": {},
   "outputs": [],
   "source": []
  },
  {
   "cell_type": "markdown",
   "id": "7f3e16a2",
   "metadata": {},
   "source": [
    "8. How does bacon.remove('cat') change the look of the list in bacon? \n",
    "\n",
    "Ans:\n",
    "\n",
    "After running bacon.remove('cat'), bacon list will be as follows:\n",
    "\n",
    "[3.14, 11, 'cat', True, 99]\n"
   ]
  },
  {
   "cell_type": "code",
   "execution_count": 19,
   "id": "110a3655",
   "metadata": {},
   "outputs": [],
   "source": []
  },
  {
   "cell_type": "markdown",
   "id": "7b55b044",
   "metadata": {},
   "source": [
    "9. What are the list concatenation and list replication operators? \n",
    "\n",
    "Ans:\n",
    "\n",
    "The operator for list concatenation is +, while the operator for replication is *."
   ]
  },
  {
   "cell_type": "code",
   "execution_count": null,
   "id": "3c1ca420",
   "metadata": {},
   "outputs": [],
   "source": []
  },
  {
   "cell_type": "markdown",
   "id": "af26832e",
   "metadata": {},
   "source": [
    "10. What is difference between the list methods append() and insert()? \n",
    "Ans:\n",
    "\n",
    "The only difference between append() and insert() is that insert function allows us to add a specific element at a specified index of the list unlike append() where we can add the element only at end of the list.\n",
    "\n",
    "Syntax for append():\n",
    "\n",
    "List_Name.append(item)\n",
    "\n",
    "Syntax for insert():\n",
    "\n",
    "List_Name.insert(index, item)"
   ]
  },
  {
   "cell_type": "code",
   "execution_count": null,
   "id": "b19f0235",
   "metadata": {},
   "outputs": [],
   "source": []
  },
  {
   "cell_type": "markdown",
   "id": "87d87e23",
   "metadata": {},
   "source": [
    "11. What are the two methods for removing items from a list? \n",
    "\n",
    "Ans:\n",
    "\n",
    "del operator and pop method both are used to delete the value from list . \n",
    "\n",
    "del removes the item at a specific index.\n",
    "\n",
    "Example:\n",
    "\n",
    "myList = [3, 2, 2, 1] \n",
    " \n",
    "del myList[1] \n",
    " \n",
    "print(myList) # will print [3, 2, 1]\n",
    "\n",
    "Pop removes the item at a specific index and returns it.\n",
    "myList = [4, 3, 5] \n",
    " \n",
    "myList.pop(1) \n",
    " \n",
    "print(myList) # will print[4, 5]"
   ]
  },
  {
   "cell_type": "code",
   "execution_count": null,
   "id": "049b5dd7",
   "metadata": {},
   "outputs": [],
   "source": []
  },
  {
   "cell_type": "markdown",
   "id": "820487c5",
   "metadata": {},
   "source": [
    "12. Describe how list values and string values are identical. \n",
    "\n",
    "Ans:\n",
    "\n",
    "Lists are similar to strings, which are ordered collections of characters, except that the elements of a list can have any type and for any one list, the items can be of different types.\n",
    "Lists and Strings in Python  are both sequences.\n",
    "List elements and string's characters are iterable."
   ]
  },
  {
   "cell_type": "code",
   "execution_count": null,
   "id": "7fe0883d",
   "metadata": {},
   "outputs": [],
   "source": []
  },
  {
   "cell_type": "markdown",
   "id": "5856a116",
   "metadata": {},
   "source": [
    "13. What's the difference between tuples and lists? \n",
    "\n",
    "Ans:\n",
    "\n",
    "The key difference between the tuples and lists is that while the tuples are immutable objects the lists are mutable. This means that tuples cannot be changed while the lists can be modified.If we have data which is not meant to be changed in the first place, you should choose tuple data type over lists.\n",
    "Tuple elements are inside round brackets () while list elements are stored inside square brackets []."
   ]
  },
  {
   "cell_type": "code",
   "execution_count": null,
   "id": "8015e4ef",
   "metadata": {},
   "outputs": [],
   "source": []
  },
  {
   "cell_type": "markdown",
   "id": "598fccec",
   "metadata": {},
   "source": [
    "14. How do you type a tuple value that only contains the integer 42? \n",
    "\n",
    "Ans:\n",
    "\n",
    "(42,) (The trailing comma is mandatory.)"
   ]
  },
  {
   "cell_type": "code",
   "execution_count": null,
   "id": "ed9b67b2",
   "metadata": {},
   "outputs": [],
   "source": []
  }
 ],
 "metadata": {
  "kernelspec": {
   "display_name": "Python 3 (ipykernel)",
   "language": "python",
   "name": "python3"
  },
  "language_info": {
   "codemirror_mode": {
    "name": "ipython",
    "version": 3
   },
   "file_extension": ".py",
   "mimetype": "text/x-python",
   "name": "python",
   "nbconvert_exporter": "python",
   "pygments_lexer": "ipython3",
   "version": "3.9.7"
  }
 },
 "nbformat": 4,
 "nbformat_minor": 5
}
