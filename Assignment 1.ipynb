{
 "cells": [
  {
   "cell_type": "markdown",
   "id": "49110973",
   "metadata": {},
   "source": [
    "1. In the below elements which of them are values or an expression? eg:- values can be integer or string and expressions\n",
    "    will be mathematical operators.\n",
    "    *,'hello',-87.8,-,/,+,6"
   ]
  },
  {
   "cell_type": "markdown",
   "id": "22c78f4c",
   "metadata": {},
   "source": [
    "Values : 'hello',-87.8,6\n",
    "\n",
    "expression: *, -, /, +     "
   ]
  },
  {
   "cell_type": "code",
   "execution_count": null,
   "id": "3f6e0182",
   "metadata": {},
   "outputs": [],
   "source": []
  },
  {
   "cell_type": "markdown",
   "id": "f4316b3a",
   "metadata": {},
   "source": [
    "2. What is the difference between string and variable? "
   ]
  },
  {
   "cell_type": "markdown",
   "id": "c31f37f9",
   "metadata": {},
   "source": [
    "A Variable is a store of information, and A string is a type of value that can be stored in a variable. \n",
    "A String is usually words, enclosed with \"\" (double quotes) or ''(single quotes)\n",
    "Python detects the type of variable automatically. "
   ]
  },
  {
   "cell_type": "code",
   "execution_count": null,
   "id": "e676fd5b",
   "metadata": {},
   "outputs": [],
   "source": []
  },
  {
   "cell_type": "markdown",
   "id": "8746e671",
   "metadata": {},
   "source": [
    "3. Describe three different data types. \n",
    "\n",
    "Ans\n",
    "\n",
    "Integer -\n",
    "Integer value can be any length such as integers 10, 2, 29, -20, -150 etc. \n",
    "Python has no restriction on the length of an integer. Its value belongs to int\n",
    "\n",
    "String-\n",
    "The string can be defined as the sequence of characters represented in the quotation marks. In Python, we can use single, double, or triple quotes to define a string.\n",
    "\n",
    "List -\n",
    "Python Lists are similar to arrays in C. However, the list can contain data of different types. The items stored in the list are separated with a comma (,) and enclosed within square brackets ([]).\n",
    "\n",
    "We can use slice [:] operators to access the data of the list. The concatenation operator (+) and repetition operator (*) works with the list in the same way as they were working with the strings."
   ]
  },
  {
   "cell_type": "code",
   "execution_count": null,
   "id": "165b8651",
   "metadata": {},
   "outputs": [],
   "source": []
  },
  {
   "cell_type": "markdown",
   "id": "ac1f1a92",
   "metadata": {},
   "source": [
    " 4. What is an expression made up of? What do all expressions do? \n",
    " \n",
    "    An expression is a combination of values, variables, operators, and calls to functions. \n",
    "    Expressions need to be evaluated. If we ask Python to print an expression, the interpreter evaluates \n",
    "    the expression and displays the result."
   ]
  },
  {
   "cell_type": "code",
   "execution_count": null,
   "id": "c3a791ef",
   "metadata": {},
   "outputs": [],
   "source": []
  },
  {
   "cell_type": "markdown",
   "id": "258d6675",
   "metadata": {},
   "source": [
    "5. This assignment statements, like spam = 10. What is the difference between an expression and a statement? \n",
    "\n",
    "Expression is made up of values, containers, and mathematical operators (operands) \n",
    "and the statement is just like a command that a python interpreter executes like print."
   ]
  },
  {
   "cell_type": "code",
   "execution_count": null,
   "id": "fc349cf9",
   "metadata": {},
   "outputs": [],
   "source": []
  },
  {
   "cell_type": "markdown",
   "id": "c9b83684",
   "metadata": {},
   "source": [
    "6. After running the following code, what does the variable bacon contain? \n",
    "\n",
    "bacon = 22 \n",
    "\n",
    "bacon + 1 \n",
    "\n",
    "Ans: 22"
   ]
  },
  {
   "cell_type": "code",
   "execution_count": null,
   "id": "9b987db3",
   "metadata": {},
   "outputs": [],
   "source": []
  },
  {
   "cell_type": "markdown",
   "id": "05efc84e",
   "metadata": {},
   "source": [
    "7. What should the values of the following two terms be? \n",
    "\n",
    "'spam' + 'spamspam' \n",
    "\n",
    "'spam' * 3 \n",
    "\n",
    "Ans: 'spamspamspam'\n",
    "    'spamspamspam'\n",
    "    "
   ]
  },
  {
   "cell_type": "code",
   "execution_count": 4,
   "id": "a2e4d34b",
   "metadata": {},
   "outputs": [
    {
     "data": {
      "text/plain": [
       "'spamspamspam'"
      ]
     },
     "execution_count": 4,
     "metadata": {},
     "output_type": "execute_result"
    }
   ],
   "source": [
    "'spam' + 'spamspam' "
   ]
  },
  {
   "cell_type": "code",
   "execution_count": 5,
   "id": "9debb065",
   "metadata": {},
   "outputs": [
    {
     "data": {
      "text/plain": [
       "'spamspamspam'"
      ]
     },
     "execution_count": 5,
     "metadata": {},
     "output_type": "execute_result"
    }
   ],
   "source": [
    "'spam' * 3"
   ]
  },
  {
   "cell_type": "code",
   "execution_count": null,
   "id": "4795164d",
   "metadata": {},
   "outputs": [],
   "source": []
  },
  {
   "cell_type": "markdown",
   "id": "2d43708a",
   "metadata": {},
   "source": [
    "8. Why is eggs a valid variable name while 100 is invalid? \n",
    "\n",
    "Ans: Variable names cannot begin with a number hence 100 is invalid name for variable while 'eggs' is valid\n",
    "    variable because it satisfies naming convention of variables."
   ]
  },
  {
   "cell_type": "code",
   "execution_count": null,
   "id": "0b2b4e83",
   "metadata": {},
   "outputs": [],
   "source": []
  },
  {
   "cell_type": "markdown",
   "id": "b6825660",
   "metadata": {},
   "source": [
    "9. What three functions can be used to get the integer, floating-point number, or string version of a value? \n",
    "\n",
    "Ans:  int(), float() and str() functions can be used to get integer, floating-point number, or string version of a value"
   ]
  },
  {
   "cell_type": "code",
   "execution_count": null,
   "id": "bbfc0120",
   "metadata": {},
   "outputs": [],
   "source": []
  },
  {
   "cell_type": "markdown",
   "id": "bf4a117e",
   "metadata": {},
   "source": [
    "10. Why does this expression cause an error? How can you fix it? \n",
    "\n",
    "'I have eaten ' + 99 + ' burritos.' \n",
    "Ans: Because we can only concatenate a string literal to string. 99 is an integer. Integers cannot be concatenated to strings."
   ]
  },
  {
   "cell_type": "code",
   "execution_count": null,
   "id": "cd0b6d24",
   "metadata": {},
   "outputs": [],
   "source": []
  }
 ],
 "metadata": {
  "kernelspec": {
   "display_name": "Python 3 (ipykernel)",
   "language": "python",
   "name": "python3"
  },
  "language_info": {
   "codemirror_mode": {
    "name": "ipython",
    "version": 3
   },
   "file_extension": ".py",
   "mimetype": "text/x-python",
   "name": "python",
   "nbconvert_exporter": "python",
   "pygments_lexer": "ipython3",
   "version": "3.9.7"
  }
 },
 "nbformat": 4,
 "nbformat_minor": 5
}
