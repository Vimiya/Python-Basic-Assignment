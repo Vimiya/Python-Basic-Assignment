{
 "cells": [
  {
   "cell_type": "markdown",
   "id": "376f168d",
   "metadata": {},
   "source": [
    "1. Why are functions advantageous to have in your programs? \n",
    "\n",
    "Ans:\n",
    "Functions reduce the need for duplicate code. This makes programs shorter, easier to read, and easier to update.\n",
    "Functions enable reuse of code, improve maintainability and scalability.\n",
    "\n",
    "    "
   ]
  },
  {
   "cell_type": "code",
   "execution_count": null,
   "id": "47b18c53",
   "metadata": {},
   "outputs": [],
   "source": []
  },
  {
   "cell_type": "markdown",
   "id": "75c4bf3c",
   "metadata": {},
   "source": [
    "2. When does the code in a function run: when it's specified or when it's called? \n",
    "\n",
    "Ans:\n",
    "The code in a function runs when it is called.\n",
    "    "
   ]
  },
  {
   "cell_type": "code",
   "execution_count": null,
   "id": "3e70eeae",
   "metadata": {},
   "outputs": [],
   "source": []
  },
  {
   "cell_type": "markdown",
   "id": "f85000a5",
   "metadata": {},
   "source": [
    "3. What statement creates a function? \n",
    "\n",
    "Ans:\n",
    "    The “def” keyword is a statement for defining a function in Python. We start a function with the def keyword, specify a name followed by a colon (:) sign. The “def” call creates the function object and assigns it to the name given."
   ]
  },
  {
   "cell_type": "code",
   "execution_count": null,
   "id": "b16effca",
   "metadata": {},
   "outputs": [],
   "source": []
  },
  {
   "cell_type": "markdown",
   "id": "cc9329dd",
   "metadata": {},
   "source": [
    "4. What is the difference between a function and a function call? \n",
    "\n",
    "Ans:\n",
    "    A function call means invoking or calling that function. Unless a function is called there is no use of that function. So the difference between the function and function call is, a function is a procedure to achieve a particular result while function call is using this function to achive that task."
   ]
  },
  {
   "cell_type": "code",
   "execution_count": null,
   "id": "b2a36e4d",
   "metadata": {},
   "outputs": [],
   "source": []
  },
  {
   "cell_type": "markdown",
   "id": "a8486864",
   "metadata": {},
   "source": [
    "5. How many global scopes are there in a Python program? How many local scopes? \n",
    "\n",
    "Ans:\n",
    "    There's only one global Python scope per program execution. This scope remains in existence until the program terminates and all its names are forgotten. Otherwise, the next time you were to run the program, the names would remember their values from the previous run.\n",
    "    When you use an unqualified name inside a function, Python searches three scopes—the local , then the global , and then the built-in —and stops at the first place the name is found."
   ]
  },
  {
   "cell_type": "code",
   "execution_count": null,
   "id": "a0aa4581",
   "metadata": {},
   "outputs": [],
   "source": []
  },
  {
   "cell_type": "markdown",
   "id": "8eb87976",
   "metadata": {},
   "source": [
    "6. What happens to variables in a local scope when the function call returns? \n",
    "\n",
    "Ans:\n",
    " When the execution of the function terminates (returns), the local variables are destroyed.\n",
    "    "
   ]
  },
  {
   "cell_type": "code",
   "execution_count": null,
   "id": "9fea93db",
   "metadata": {},
   "outputs": [],
   "source": []
  },
  {
   "cell_type": "markdown",
   "id": "8bd4a125",
   "metadata": {},
   "source": [
    "7. What is the concept of a return value? Is it possible to have a return value in an expression? \n",
    "\n",
    "Ans:\n",
    "The  return keyword in python exits a function and instructs Python to continue executing the main program. The return keyword can send a value back to the main program. That value is called return value. A return value could be a string, a tuple, or any other object.\n",
    "\n",
    "Yes, it is possible to have a return value in an expression.\n",
    "Example:\n",
    "\n",
    "def calculate(a):\n",
    "\n",
    "    if type(a)==int:\n",
    "    \n",
    "        return a*a\n",
    "        \n",
    "    else:\n",
    "    \n",
    "        return 'You have not entered an integer value'\n",
    " \n",
    " \n",
    "When we call calculate() function passing an integer value say 3, the value of expression which is 9 is returned.\n",
    "\n"
   ]
  },
  {
   "cell_type": "code",
   "execution_count": null,
   "id": "ddb28ca5",
   "metadata": {},
   "outputs": [],
   "source": []
  },
  {
   "cell_type": "markdown",
   "id": "24b24bf8",
   "metadata": {},
   "source": [
    "8. If a function does not have a return statement, what is the return value of a call to that function? \n",
    "\n",
    "Ans:\n",
    "If a function doesn't specify a return statement, it returns None.\n",
    "Example is as follows:"
   ]
  },
  {
   "cell_type": "code",
   "execution_count": 4,
   "id": "19425b4f",
   "metadata": {},
   "outputs": [],
   "source": [
    "a=5\n",
    "def calculate():\n",
    "    b=5\n",
    "    c=a+b"
   ]
  },
  {
   "cell_type": "code",
   "execution_count": 7,
   "id": "59f01b74",
   "metadata": {},
   "outputs": [],
   "source": [
    "calculate()"
   ]
  },
  {
   "cell_type": "code",
   "execution_count": 8,
   "id": "1b32734f",
   "metadata": {},
   "outputs": [
    {
     "data": {
      "text/plain": [
       "NoneType"
      ]
     },
     "execution_count": 8,
     "metadata": {},
     "output_type": "execute_result"
    }
   ],
   "source": [
    "type(calculate())"
   ]
  },
  {
   "cell_type": "code",
   "execution_count": null,
   "id": "717651b0",
   "metadata": {},
   "outputs": [],
   "source": []
  },
  {
   "cell_type": "markdown",
   "id": "dc55ef20",
   "metadata": {},
   "source": [
    "9. How do you make a function variable refer to the global variable? \n",
    "\n",
    "Ans:\n",
    "    Normally, when you create a variable inside a function, that variable is local, and can only be used inside that function.\n",
    "\n",
    "To create a global variable inside a function, you can use the global keyword.\n",
    "\n",
    "Example:\n"
   ]
  },
  {
   "cell_type": "code",
   "execution_count": 13,
   "id": "aaa6a5bd",
   "metadata": {},
   "outputs": [
    {
     "name": "stdout",
     "output_type": "stream",
     "text": [
      "Python is fantastic\n"
     ]
    }
   ],
   "source": [
    "def myfunc():\n",
    "  global x\n",
    "  x = \"fantastic\"\n",
    "\n",
    "myfunc()\n",
    "\n",
    "print(\"Python is \" + x)\n"
   ]
  },
  {
   "cell_type": "code",
   "execution_count": null,
   "id": "3764d61c",
   "metadata": {},
   "outputs": [],
   "source": []
  },
  {
   "cell_type": "markdown",
   "id": "8e4ba66c",
   "metadata": {},
   "source": [
    "10. What is the data type of None? \n",
    "\n",
    "Ans:\n",
    "   None is used to define a null value. It is not the same as an empty string, False, or a zero. It is a data type of the class NoneType object. Assigning a value of None to a variable is one way to reset it to its original, empty state. "
   ]
  },
  {
   "cell_type": "code",
   "execution_count": null,
   "id": "f7a02d8d",
   "metadata": {},
   "outputs": [],
   "source": []
  },
  {
   "cell_type": "markdown",
   "id": "cae9ae0b",
   "metadata": {},
   "source": [
    "11. What does the sentence import areallyourpetsnamederic do? \n",
    "\n",
    "Ans:\n",
    "    That import statement imports a module named areallyourpetsnamederic (By the way, it is not a real python module)"
   ]
  },
  {
   "cell_type": "code",
   "execution_count": null,
   "id": "98a86d55",
   "metadata": {},
   "outputs": [],
   "source": []
  },
  {
   "cell_type": "markdown",
   "id": "240f723c",
   "metadata": {},
   "source": [
    "12. If you had a bacon() feature in a spam module, what would you call it after importing spam? \n",
    "\n",
    "Ans: After importing spam module, we can call it as follows:\n",
    "\n",
    "    spam.bacon()"
   ]
  },
  {
   "cell_type": "code",
   "execution_count": null,
   "id": "53c5ba49",
   "metadata": {},
   "outputs": [],
   "source": []
  },
  {
   "cell_type": "markdown",
   "id": "73226f5c",
   "metadata": {},
   "source": [
    "13. What can you do to save a programme from crashing if it encounters an error? \n",
    "\n",
    "Ans:\n",
    "    Error handling can be used to notify the user of why the error occurred and gracefully exit the process that caused the error.\n",
    "    "
   ]
  },
  {
   "cell_type": "code",
   "execution_count": null,
   "id": "c41a773b",
   "metadata": {},
   "outputs": [],
   "source": []
  },
  {
   "cell_type": "markdown",
   "id": "fdfbabe7",
   "metadata": {},
   "source": [
    "14. What is the purpose of the try clause? What is the purpose of the except clause? \n",
    "\n",
    "Ans:\n",
    "\n",
    "The try clause lets you test a block of code for errors. The except clause lets you handle the error. \n",
    "Except statement catches an exception. It is used to test code for an error which is written in the “try” statement. If an error is encountered, the contents of the “except” block are run."
   ]
  },
  {
   "cell_type": "code",
   "execution_count": null,
   "id": "4f9fed9b",
   "metadata": {},
   "outputs": [],
   "source": []
  }
 ],
 "metadata": {
  "kernelspec": {
   "display_name": "Python 3 (ipykernel)",
   "language": "python",
   "name": "python3"
  },
  "language_info": {
   "codemirror_mode": {
    "name": "ipython",
    "version": 3
   },
   "file_extension": ".py",
   "mimetype": "text/x-python",
   "name": "python",
   "nbconvert_exporter": "python",
   "pygments_lexer": "ipython3",
   "version": "3.9.7"
  }
 },
 "nbformat": 4,
 "nbformat_minor": 5
}
