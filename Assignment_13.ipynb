{
 "cells": [
  {
   "cell_type": "markdown",
   "id": "7a2c4be4",
   "metadata": {},
   "source": [
    "1. What advantages do Excel spreadsheets have over CSV spreadsheets?\n",
    "\n",
    "Ans: The Advantages of Excel over CSV are:\n",
    "\n",
    "1. Reading large dataset is much easier in excel compared to csv, Excel provides the option for linking the data from external sources but no such feature available in csv.\n",
    "\n",
    "2. Excel (XLS and XLSX) file formats are better for storing and analysing complex data.\n",
    "\n",
    "3. An Excel not only stores data but can also do operations on the data using macros, formulas etc\n",
    "\n",
    "4. CSV files are plain-text files, Does not contain formatting, formulas, macros, etc. It is also known as flat files"
   ]
  },
  {
   "cell_type": "code",
   "execution_count": null,
   "id": "794703b6",
   "metadata": {},
   "outputs": [],
   "source": []
  },
  {
   "cell_type": "markdown",
   "id": "c843d1fe",
   "metadata": {},
   "source": [
    "2.What do you pass to csv.reader() and csv.writer() to create reader and writer objects?\n",
    "\n",
    "Ans: We pass an iterable file object.\n",
    "For eg: "
   ]
  },
  {
   "cell_type": "code",
   "execution_count": null,
   "id": "731d0b84",
   "metadata": {},
   "outputs": [],
   "source": [
    "import csv\n",
    "with open('text.csv','r') as file:\n",
    "    csv_file = csv.reader(file,delimiter=',')\n",
    "    for ele in csv_file:\n",
    "        print(ele)"
   ]
  },
  {
   "cell_type": "code",
   "execution_count": null,
   "id": "f3756987",
   "metadata": {},
   "outputs": [],
   "source": []
  },
  {
   "cell_type": "markdown",
   "id": "832b72aa",
   "metadata": {},
   "source": [
    "3. What modes do File objects for reader and writer objects need to be opened in?\n",
    "\n",
    "Ans: For csv.reader(iterable_file_object), the file objects needed to be opened in read mode mode='r' Whereas for csv.writer(iterable_file_object) the file objects needed to be opened in write mode mode='w'"
   ]
  },
  {
   "cell_type": "code",
   "execution_count": null,
   "id": "fc03dd03",
   "metadata": {},
   "outputs": [],
   "source": []
  },
  {
   "cell_type": "markdown",
   "id": "cbeb2c0f",
   "metadata": {},
   "source": [
    "4. What method takes a list argument and writes it to a CSV file?\n",
    "\n",
    "Ans: csv.writer class provides two methods for writing to CSV. They are writerow() and writerows(). writerow() method writes a single row at a time. Whereas writerows() method is used to write multiple rows at a time."
   ]
  },
  {
   "cell_type": "code",
   "execution_count": null,
   "id": "a3a97527",
   "metadata": {},
   "outputs": [],
   "source": [
    "# Example Program\n",
    "import csv      \n",
    "fields = ['Name', 'Branch', 'Year', 'CGPA'] #column names \n",
    "rows = [ \n",
    "            ['Rahul', 'IT', '2', '9.0'],  # data rows of csv file \n",
    "            ['Manish', 'Mechanical', '2', '9.1'], \n",
    "            ['Pallavi', 'IT', '2', '9.3']\n",
    "       ] \n",
    "with open(\"college_records.csv\", 'w') as file: \n",
    "    csvwriter = csv.writer(file) # creating a csv writer object \n",
    "    csvwriter.writerow(fields) # writing the fields \n",
    "    csvwriter.writerows(rows) # writing the data rows "
   ]
  },
  {
   "cell_type": "code",
   "execution_count": null,
   "id": "8cb167f4",
   "metadata": {},
   "outputs": [],
   "source": []
  },
  {
   "cell_type": "markdown",
   "id": "35f159e5",
   "metadata": {},
   "source": [
    "5. What do the keyword arguments delimiter and line terminator do?\n",
    "\n",
    "Ans: delimiter sets the character between cells on a row. line terminator sets the character that comes at the end of a row."
   ]
  },
  {
   "cell_type": "code",
   "execution_count": null,
   "id": "97da8527",
   "metadata": {},
   "outputs": [],
   "source": []
  },
  {
   "cell_type": "markdown",
   "id": "ba92ea50",
   "metadata": {},
   "source": [
    "6. What function takes a string of JSON data and returns a Python data structure?\n",
    "\n",
    "Ans: json.loads() method takes a string of JSON data and returns a Python data structure"
   ]
  },
  {
   "cell_type": "code",
   "execution_count": 3,
   "id": "00288ed0",
   "metadata": {},
   "outputs": [
    {
     "name": "stdout",
     "output_type": "stream",
     "text": [
      "{\n",
      "    \"Name\": \"XYZ\",\n",
      "    \"Qualification\": \"Bachelors in Science\",\n",
      "    \"Stream\": \"Mathematics\"\n",
      "}\n",
      "Type of my_json is <class 'str'>\n",
      "{'Name': 'XYZ', 'Qualification': 'Bachelors in Science', 'Stream': 'Mathematics'}\n",
      "Type of student_detail is <class 'dict'>\n"
     ]
    }
   ],
   "source": [
    "# Example of json.loads() method\n",
    "import json\n",
    "my_json ='''{\n",
    "    \"Name\": \"XYZ\",\n",
    "    \"Qualification\": \"Bachelors in Science\",\n",
    "    \"Stream\": \"Mathematics\"\n",
    "}'''\n",
    "print(my_json)\n",
    "print(f'Type of my_json is {type(my_json)}')\n",
    "student_detail = json.loads(my_json)\n",
    "print(student_detail)\n",
    "print(f'Type of student_detail is {type(student_detail)}')"
   ]
  },
  {
   "cell_type": "code",
   "execution_count": null,
   "id": "6274c977",
   "metadata": {},
   "outputs": [],
   "source": []
  },
  {
   "cell_type": "markdown",
   "id": "4ba94b44",
   "metadata": {},
   "source": [
    "7. What function takes a Python data structure and returns a string of JSON data?\n",
    "\n",
    "Ans: dumps() method takes a python data structure and returns a string of JSON data"
   ]
  },
  {
   "cell_type": "code",
   "execution_count": 6,
   "id": "0b54b053",
   "metadata": {},
   "outputs": [
    {
     "name": "stdout",
     "output_type": "stream",
     "text": [
      "{'Name': 'XYZ', 'Qualification': 'Bachelors in Science', 'Stream': 'Mathematics'}\n",
      "Type of student_detail is <class 'dict'>\n",
      "{\n",
      "    \"Name\": \"XYZ\",\n",
      "    \"Qualification\": \"Bachelors in Science\",\n",
      "    \"Stream\": \"Mathematics\"\n",
      "}\n",
      "Type of student_detail_json is <class 'str'>\n"
     ]
    }
   ],
   "source": [
    "# Example of json.dumps() method\n",
    "import json\n",
    "student_detail = {\n",
    "    'Name':'XYZ',\n",
    "    'Qualification':'Bachelors in Science',\n",
    "    'Stream': 'Mathematics'\n",
    "}\n",
    "print(student_detail)\n",
    "print(f'Type of student_detail is {type(student_detail)}')\n",
    "student_detail_json = json.dumps(student_detail, indent=4, sort_keys=True)\n",
    "print(student_detail_json)\n",
    "print(f'Type of student_detail_json is {type(student_detail_json)}')"
   ]
  },
  {
   "cell_type": "code",
   "execution_count": null,
   "id": "958e98ac",
   "metadata": {},
   "outputs": [],
   "source": []
  }
 ],
 "metadata": {
  "kernelspec": {
   "display_name": "Python 3 (ipykernel)",
   "language": "python",
   "name": "python3"
  },
  "language_info": {
   "codemirror_mode": {
    "name": "ipython",
    "version": 3
   },
   "file_extension": ".py",
   "mimetype": "text/x-python",
   "name": "python",
   "nbconvert_exporter": "python",
   "pygments_lexer": "ipython3",
   "version": "3.9.7"
  }
 },
 "nbformat": 4,
 "nbformat_minor": 5
}
