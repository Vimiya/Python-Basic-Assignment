{
 "cells": [
  {
   "cell_type": "markdown",
   "id": "17a4769c",
   "metadata": {},
   "source": [
    "# 1. What are escape characters, and how do you use them? \n",
    "Ans: Escape characters represent characters in string values that would otherwise be difficult or impossible to type into code. In Python strings, the backslash \"\\\" is a special character, also called the \"escape\" character. It is used in representing certain whitespace characters: \"\\t\" is a tab, \"\\n\" is a newline, and \"\\r\" is a carriage return.\n",
    "\n",
    "\n",
    "# 2. What do the escape characters n and t stand for? \n",
    "Ans: \\n is for newline; \\t is for tab.\n",
    "\n",
    "\n",
    "# 3. What is the way to include backslash characters in a string? \n",
    "Ans: If we want to include a backslash character in a string, we need two backslashes or use the @ verbatim string as shown in below examples.\n",
    "eg:\n",
    "\n",
    "var s = \"\\\\Tasks\";\n",
    "\n",
    "// or \n",
    "\n",
    "var s = @\"\\Tasks\";\n",
    "\n",
    "\n",
    "\n",
    "# 4. The string \"Howl's Moving Castle\" is a correct value. Why isn't the single quote character in the word Howl's not escaped a problem? \n",
    "Ans: The single quote in Howl's is fine because we have used double quotes to mark the beginning and end of the string.\n",
    "\n",
    "\n",
    "# 5. How do you write a string of newlines if you don't want to use the n character? \n",
    "Ans: we can easily print across multiple lines in Python by using multi-line strings. Multi-line strings in Python are declared by triple single quotes or triple double quotes. This allows you to use line breaks within the string without explicitly declaring them.\n",
    "\n",
    "eg:\n",
    "\n",
    "#Printing on Multiple Lines in Python\n",
    "\n",
    "string = \"\"\"Hello!\n",
    "\n",
    "Welcome all!\"\"\"\n",
    "\n",
    "print(string)\n",
    "\n",
    "#OUTPUT is as follows:\n",
    "\n",
    "Hello!\n",
    "\n",
    "Welcome all!\n"
   ]
  },
  {
   "cell_type": "markdown",
   "id": "c2396e55",
   "metadata": {},
   "source": [
    "# 6. What are the values of the given expressions? \n",
    "\n",
    "'Hello, world!'[1] \n",
    "\n",
    "'Hello, world!'[0:5] \n",
    "\n",
    "'Hello, world!'[:5] \n",
    "\n",
    "'Hello, world!'[3:] \n"
   ]
  },
  {
   "cell_type": "code",
   "execution_count": 6,
   "id": "8028db3b",
   "metadata": {},
   "outputs": [
    {
     "data": {
      "text/plain": [
       "'e'"
      ]
     },
     "execution_count": 6,
     "metadata": {},
     "output_type": "execute_result"
    }
   ],
   "source": [
    "'Hello, world!'[1]"
   ]
  },
  {
   "cell_type": "code",
   "execution_count": 7,
   "id": "b4dac9d8",
   "metadata": {},
   "outputs": [
    {
     "data": {
      "text/plain": [
       "'Hello'"
      ]
     },
     "execution_count": 7,
     "metadata": {},
     "output_type": "execute_result"
    }
   ],
   "source": [
    "'Hello, world!'[0:5]"
   ]
  },
  {
   "cell_type": "code",
   "execution_count": 8,
   "id": "be18d84f",
   "metadata": {},
   "outputs": [
    {
     "data": {
      "text/plain": [
       "'Hello'"
      ]
     },
     "execution_count": 8,
     "metadata": {},
     "output_type": "execute_result"
    }
   ],
   "source": [
    "'Hello, world!'[:5]"
   ]
  },
  {
   "cell_type": "code",
   "execution_count": 9,
   "id": "b2bd276c",
   "metadata": {},
   "outputs": [
    {
     "data": {
      "text/plain": [
       "'lo, world!'"
      ]
     },
     "execution_count": 9,
     "metadata": {},
     "output_type": "execute_result"
    }
   ],
   "source": [
    "'Hello, world!'[3:] "
   ]
  },
  {
   "cell_type": "code",
   "execution_count": null,
   "id": "a12b1575",
   "metadata": {},
   "outputs": [],
   "source": []
  },
  {
   "cell_type": "markdown",
   "id": "8f86b3c2",
   "metadata": {},
   "source": [
    "# 7. What are the values of the following expressions? \n",
    "\n",
    "'Hello'.upper() \n",
    "\n",
    "'Hello'.upper().isupper() \n",
    "\n",
    "'Hello'.upper().lower() \n",
    "\n"
   ]
  },
  {
   "cell_type": "code",
   "execution_count": 10,
   "id": "87c815a1",
   "metadata": {},
   "outputs": [
    {
     "data": {
      "text/plain": [
       "'HELLO'"
      ]
     },
     "execution_count": 10,
     "metadata": {},
     "output_type": "execute_result"
    }
   ],
   "source": [
    "'Hello'.upper() "
   ]
  },
  {
   "cell_type": "code",
   "execution_count": 11,
   "id": "f66b3a1d",
   "metadata": {},
   "outputs": [
    {
     "data": {
      "text/plain": [
       "True"
      ]
     },
     "execution_count": 11,
     "metadata": {},
     "output_type": "execute_result"
    }
   ],
   "source": [
    "'Hello'.upper().isupper() "
   ]
  },
  {
   "cell_type": "code",
   "execution_count": 12,
   "id": "e0d3e565",
   "metadata": {},
   "outputs": [
    {
     "data": {
      "text/plain": [
       "'hello'"
      ]
     },
     "execution_count": 12,
     "metadata": {},
     "output_type": "execute_result"
    }
   ],
   "source": [
    "'Hello'.upper().lower()"
   ]
  },
  {
   "cell_type": "code",
   "execution_count": null,
   "id": "3f69b345",
   "metadata": {},
   "outputs": [],
   "source": []
  },
  {
   "cell_type": "markdown",
   "id": "6cde1c14",
   "metadata": {},
   "source": [
    "# 8. What are the values of the following expressions? \n",
    "\n",
    "'Remember, remember, the fifth of July.'.split() \n",
    "\n",
    "'-'.join('There can only one.'.split()) "
   ]
  },
  {
   "cell_type": "code",
   "execution_count": 13,
   "id": "60058e4c",
   "metadata": {},
   "outputs": [
    {
     "data": {
      "text/plain": [
       "['Remember,', 'remember,', 'the', 'fifth', 'of', 'July.']"
      ]
     },
     "execution_count": 13,
     "metadata": {},
     "output_type": "execute_result"
    }
   ],
   "source": [
    "'Remember, remember, the fifth of July.'.split() "
   ]
  },
  {
   "cell_type": "code",
   "execution_count": 14,
   "id": "0ee6d7d9",
   "metadata": {},
   "outputs": [
    {
     "data": {
      "text/plain": [
       "'There-can-only-one.'"
      ]
     },
     "execution_count": 14,
     "metadata": {},
     "output_type": "execute_result"
    }
   ],
   "source": [
    "'-'.join('There can only one.'.split()) "
   ]
  },
  {
   "cell_type": "code",
   "execution_count": null,
   "id": "11338f24",
   "metadata": {},
   "outputs": [],
   "source": []
  },
  {
   "cell_type": "markdown",
   "id": "a75c8d01",
   "metadata": {},
   "source": [
    "# 9. What are the methods for right-justifying, left-justifying, and centering a string? \n",
    "Ans: The rjust(), ljust(), and center() string methods, respectively"
   ]
  },
  {
   "cell_type": "code",
   "execution_count": null,
   "id": "d100ad62",
   "metadata": {},
   "outputs": [],
   "source": []
  },
  {
   "cell_type": "markdown",
   "id": "e46b5acb",
   "metadata": {},
   "source": [
    "# 10. What is the best way to remove whitespace characters from the start or end? \n",
    "Ans: \n",
    "Use the .strip() method to remove whitespace and characters from the beginning and the end of a string.\n",
    "\n",
    "Use the .lstrip() method to remove whitespace and characters only from the beginning of a string.\n",
    "\n",
    "Use the .rstrip() method to remove whitespace and characters only from the end of a string."
   ]
  },
  {
   "cell_type": "code",
   "execution_count": null,
   "id": "b4a49d8d",
   "metadata": {},
   "outputs": [],
   "source": []
  }
 ],
 "metadata": {
  "kernelspec": {
   "display_name": "Python 3 (ipykernel)",
   "language": "python",
   "name": "python3"
  },
  "language_info": {
   "codemirror_mode": {
    "name": "ipython",
    "version": 3
   },
   "file_extension": ".py",
   "mimetype": "text/x-python",
   "name": "python",
   "nbconvert_exporter": "python",
   "pygments_lexer": "ipython3",
   "version": "3.9.7"
  }
 },
 "nbformat": 4,
 "nbformat_minor": 5
}
