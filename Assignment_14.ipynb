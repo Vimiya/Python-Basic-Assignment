{
 "cells": [
  {
   "cell_type": "markdown",
   "id": "19b6f99c",
   "metadata": {},
   "source": [
    "1. What does RGBA stand for?\n",
    "\n",
    "Ans: RGBA is a four-channel format containing data for Red, Green, Blue, and an Alpha value. Where Alpha Represents the Opacity for a color.\n",
    "\n",
    "\n",
    "2. From the Pillow module, how do you get the RGBA value of any images?\n",
    "\n",
    "Ans: ImageColor.getcolor() gives rgba value of any image\n",
    "\n",
    "for eg:\n",
    "from PIL import ImageColor\n",
    "\n",
    "ImageColor.getcolor(color_name, 'RGBA')\n",
    "\n",
    "\n",
    "3. What is a box tuple, and how does it work?\n",
    "\n",
    "Ans: \n",
    "Many Pillow's function take box tuple argument. This means pillow is taking a tuple of four integer coordinates that expecting a rectangular region in image. The four integers are in order left, top, right, bottom.\n"
   ]
  },
  {
   "cell_type": "code",
   "execution_count": null,
   "id": "65981825",
   "metadata": {},
   "outputs": [],
   "source": []
  },
  {
   "cell_type": "markdown",
   "id": "56e250bb",
   "metadata": {},
   "source": [
    "4. Use your image and load in notebook then, How can you find out the width and height of an Image object?\n",
    "Ans: "
   ]
  },
  {
   "cell_type": "code",
   "execution_count": 2,
   "id": "f9666c84",
   "metadata": {},
   "outputs": [
    {
     "name": "stdout",
     "output_type": "stream",
     "text": [
      "Width, Height -> (348, 359)\n",
      "Width, Height -> 348,359\n"
     ]
    }
   ],
   "source": [
    "from PIL import Image\n",
    "im=Image.open('image.png')\n",
    "print(f'Width, Height -> {im.size}') # first approach\n",
    "print(f'Width, Height -> {im.width},{im.height}') # second approach"
   ]
  },
  {
   "cell_type": "code",
   "execution_count": null,
   "id": "18b444b8",
   "metadata": {},
   "outputs": [],
   "source": []
  },
  {
   "cell_type": "markdown",
   "id": "2ba44e35",
   "metadata": {},
   "source": [
    "5. What method would you call to get Image object for a 100×100 image, excluding the lower-left\n",
    "quarter of it?\n",
    "Ans: "
   ]
  },
  {
   "cell_type": "code",
   "execution_count": null,
   "id": "db4dbc58",
   "metadata": {},
   "outputs": [],
   "source": [
    "from PIL import Image\n",
    "im=Image.open('pic.png')\n",
    "new_img=im.crop((0,50,50,50))"
   ]
  },
  {
   "cell_type": "code",
   "execution_count": null,
   "id": "48c791fb",
   "metadata": {},
   "outputs": [],
   "source": []
  },
  {
   "cell_type": "markdown",
   "id": "e44201c1",
   "metadata": {},
   "source": [
    "6. After making changes to an Image object, how could you save it as an image file?\n",
    "Ans: \n"
   ]
  },
  {
   "cell_type": "code",
   "execution_count": null,
   "id": "d6d71811",
   "metadata": {},
   "outputs": [],
   "source": [
    "from PIL import Image\n",
    "im=Image.open('image.png')\n",
    "im.save('image2.png')"
   ]
  },
  {
   "cell_type": "code",
   "execution_count": null,
   "id": "3ef6e361",
   "metadata": {},
   "outputs": [],
   "source": []
  },
  {
   "cell_type": "markdown",
   "id": "ca279a40",
   "metadata": {},
   "source": [
    "7. What module contains Pillow’s shape-drawing code?\n",
    "Ans: Pillow's ImageDraw module contains Shape drawing methods"
   ]
  },
  {
   "cell_type": "code",
   "execution_count": null,
   "id": "1f7dbfd2",
   "metadata": {},
   "outputs": [],
   "source": []
  },
  {
   "cell_type": "markdown",
   "id": "9747c892",
   "metadata": {},
   "source": [
    "8. Image objects do not have drawing methods. What kind of object does? How do you get this kind of object?\n",
    "Ans: ImageDraw objects have shape-drawing methods such as point(), line(), or rectangle().They are returned by passing the Image object to the ImageDraw.Draw() function."
   ]
  },
  {
   "cell_type": "markdown",
   "id": "491df9f2",
   "metadata": {},
   "source": [
    "from PIL import Image,ImageDraw\n",
    "im = Image.open('image.png')\n",
    "draw=ImageDraw.Draw(im)\n",
    "draw.line((0, 0) + im.size, fill=128)\n",
    "im.show()"
   ]
  },
  {
   "cell_type": "code",
   "execution_count": null,
   "id": "e30e3f59",
   "metadata": {},
   "outputs": [],
   "source": []
  }
 ],
 "metadata": {
  "kernelspec": {
   "display_name": "Python 3 (ipykernel)",
   "language": "python",
   "name": "python3"
  },
  "language_info": {
   "codemirror_mode": {
    "name": "ipython",
    "version": 3
   },
   "file_extension": ".py",
   "mimetype": "text/x-python",
   "name": "python",
   "nbconvert_exporter": "python",
   "pygments_lexer": "ipython3",
   "version": "3.9.7"
  }
 },
 "nbformat": 4,
 "nbformat_minor": 5
}
