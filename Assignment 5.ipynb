{
 "cells": [
  {
   "cell_type": "markdown",
   "id": "a46ffe40",
   "metadata": {},
   "source": [
    "# 1. What does an empty dictionary code look like?"
   ]
  },
  {
   "cell_type": "markdown",
   "id": "5419dc2b",
   "metadata": {},
   "source": [
    "Ans: One way is to set the dictionary to {} \n",
    "    eg: d={}\n",
    "    Another way is to set the dictionary equal to dict()\n",
    "    eg: d=dict()"
   ]
  },
  {
   "cell_type": "code",
   "execution_count": null,
   "id": "808a94cf",
   "metadata": {},
   "outputs": [],
   "source": []
  },
  {
   "cell_type": "markdown",
   "id": "f9451486",
   "metadata": {},
   "source": [
    "# 2. What does a dictionary value with a key 'foo' and a value 42 look like?"
   ]
  },
  {
   "cell_type": "markdown",
   "id": "91acb7ce",
   "metadata": {},
   "source": [
    "Ans: d = {'foo': 42}"
   ]
  },
  {
   "cell_type": "code",
   "execution_count": null,
   "id": "34f9fbbb",
   "metadata": {},
   "outputs": [],
   "source": []
  },
  {
   "cell_type": "markdown",
   "id": "d50a9606",
   "metadata": {},
   "source": [
    "# 3. What is the most significant distinction between a dictionary and a list?"
   ]
  },
  {
   "cell_type": "markdown",
   "id": "0503410f",
   "metadata": {},
   "source": [
    "Ans: List is a collection of index values pairs whereas the dictionaries store the data in the form of key-value pairs using the hashtable structure."
   ]
  },
  {
   "cell_type": "code",
   "execution_count": null,
   "id": "b25910ab",
   "metadata": {},
   "outputs": [],
   "source": []
  },
  {
   "cell_type": "markdown",
   "id": "6c889cd9",
   "metadata": {},
   "source": [
    "# 4. What happens if you try to access spam['foo'] if spam is {'bar': 100}?"
   ]
  },
  {
   "cell_type": "markdown",
   "id": "6ce51942",
   "metadata": {},
   "source": [
    "Ans: It leads to a KeyError as seen below"
   ]
  },
  {
   "cell_type": "code",
   "execution_count": 1,
   "id": "a42492c1",
   "metadata": {},
   "outputs": [],
   "source": [
    "spam={'bar':100}"
   ]
  },
  {
   "cell_type": "code",
   "execution_count": 2,
   "id": "f741ed2d",
   "metadata": {},
   "outputs": [
    {
     "ename": "KeyError",
     "evalue": "'foo'",
     "output_type": "error",
     "traceback": [
      "\u001b[1;31m---------------------------------------------------------------------------\u001b[0m",
      "\u001b[1;31mKeyError\u001b[0m                                  Traceback (most recent call last)",
      "\u001b[1;32m~\\AppData\\Local\\Temp/ipykernel_9100/3999281786.py\u001b[0m in \u001b[0;36m<module>\u001b[1;34m\u001b[0m\n\u001b[1;32m----> 1\u001b[1;33m \u001b[0mspam\u001b[0m\u001b[1;33m[\u001b[0m\u001b[1;34m'foo'\u001b[0m\u001b[1;33m]\u001b[0m\u001b[1;33m\u001b[0m\u001b[1;33m\u001b[0m\u001b[0m\n\u001b[0m",
      "\u001b[1;31mKeyError\u001b[0m: 'foo'"
     ]
    }
   ],
   "source": [
    "spam['foo']"
   ]
  },
  {
   "cell_type": "markdown",
   "id": "628e962b",
   "metadata": {},
   "source": [
    "# 5. If a dictionary is stored in spam, what is the difference between the expressions 'cat' in spam and &#39;cat&#39; in spam.keys()?"
   ]
  },
  {
   "cell_type": "markdown",
   "id": "e630d7ac",
   "metadata": {},
   "source": [
    "Ans: suppose we take a dictionary similar to the one mentioned in question say spam = {'cat':1, 'dog':2, 'cow':3}.\n",
    "'cat' is a key in spam dictionary. And 'cat' in spam.keys() also means 'cat' is a key in spam dictionary. So, there is no difference."
   ]
  },
  {
   "cell_type": "code",
   "execution_count": 3,
   "id": "fb8c65f1",
   "metadata": {},
   "outputs": [],
   "source": [
    "spam = {'cat':1, 'dog':2, 'cow':3}"
   ]
  },
  {
   "cell_type": "code",
   "execution_count": 4,
   "id": "d7dcc0d2",
   "metadata": {},
   "outputs": [
    {
     "data": {
      "text/plain": [
       "dict_keys(['cat', 'dog', 'cow'])"
      ]
     },
     "execution_count": 4,
     "metadata": {},
     "output_type": "execute_result"
    }
   ],
   "source": [
    "spam.keys()"
   ]
  },
  {
   "cell_type": "code",
   "execution_count": null,
   "id": "9155ba44",
   "metadata": {},
   "outputs": [],
   "source": []
  },
  {
   "cell_type": "markdown",
   "id": "36384fbe",
   "metadata": {},
   "source": [
    "# 6. If a dictionary is stored in spam, what is the difference between the expressions &#39;cat&#39; in spam and 'cat' in spam.values()?"
   ]
  },
  {
   "cell_type": "markdown",
   "id": "98009140",
   "metadata": {},
   "source": [
    "Ans: suppose we take a dictionary similar to the one mentioned in question say spam = {'cat':1, 'dog':2, 'cow':3}.\n",
    "'cat' is a key in spam dictionary. And 'cat' in spam.keys() also means 'cat' is a key in spam dictionary. So, there is no difference."
   ]
  },
  {
   "cell_type": "code",
   "execution_count": null,
   "id": "926f3afd",
   "metadata": {},
   "outputs": [],
   "source": []
  },
  {
   "cell_type": "markdown",
   "id": "ea7e5aa9",
   "metadata": {},
   "source": [
    "# 7. What is a shortcut for the following code?\n",
    "# if 'color' not in spam:\n",
    "# spam['color'] = 'black'"
   ]
  },
  {
   "cell_type": "code",
   "execution_count": null,
   "id": "cd4cd7fa",
   "metadata": {},
   "outputs": [],
   "source": [
    "spam.setdefault('color','black')"
   ]
  },
  {
   "cell_type": "markdown",
   "id": "b96ba2e2",
   "metadata": {},
   "source": [
    "# 8. How do you \"pretty print\" dictionary values using which module and function?"
   ]
  },
  {
   "cell_type": "code",
   "execution_count": null,
   "id": "da5bfe40",
   "metadata": {},
   "outputs": [],
   "source": [
    "The module is pprint. And the functions are pprint.pprint() and pprint.pformat()."
   ]
  }
 ],
 "metadata": {
  "kernelspec": {
   "display_name": "Python 3 (ipykernel)",
   "language": "python",
   "name": "python3"
  },
  "language_info": {
   "codemirror_mode": {
    "name": "ipython",
    "version": 3
   },
   "file_extension": ".py",
   "mimetype": "text/x-python",
   "name": "python",
   "nbconvert_exporter": "python",
   "pygments_lexer": "ipython3",
   "version": "3.9.7"
  }
 },
 "nbformat": 4,
 "nbformat_minor": 5
}
