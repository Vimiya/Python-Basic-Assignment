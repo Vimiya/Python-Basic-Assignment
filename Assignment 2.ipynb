{
 "cells": [
  {
   "cell_type": "markdown",
   "id": "4fa6ec9b",
   "metadata": {},
   "source": [
    "1.What are the two values of the Boolean data type? How do you write them? \n",
    "\n",
    "Ans: The two values of Boolean data type are True and False. It is written as True and False. "
   ]
  },
  {
   "cell_type": "code",
   "execution_count": null,
   "id": "101fa612",
   "metadata": {},
   "outputs": [],
   "source": []
  },
  {
   "cell_type": "markdown",
   "id": "3bed9d18",
   "metadata": {},
   "source": [
    "2. What are the three different types of Boolean operators? \n",
    "\n",
    "Ans: The three basic boolean operators are: AND, OR, and NOT"
   ]
  },
  {
   "cell_type": "code",
   "execution_count": null,
   "id": "5af27db9",
   "metadata": {},
   "outputs": [],
   "source": []
  },
  {
   "cell_type": "markdown",
   "id": "10f777f5",
   "metadata": {},
   "source": [
    "3. Make a list of each Boolean operator's truth tables (i.e. every possible combination of Boolean values for the operator and what it evaluate ). \n",
    "\n",
    "Ans: AND operator truth table\n",
    "\n",
    "   |Operator A| |Operator B| |AND Result|\n",
    "   |----------| |----------| |----------|\n",
    "   |False| |True| |False|\n",
    "   |True| |False| |False|\n",
    "   |False| |False| |False|\n",
    "   |True| |True| |True|\n",
    "   \n",
    "   OR operator truth table\n",
    "   \n",
    "   |Operator A| |Operator B| |OR Result|\n",
    "   |----------| |----------| |----------|\n",
    "   |False| |True| |True|\n",
    "   |True| |False| |True|\n",
    "   |False| |False| |False|\n",
    "   |True| |True| |True|\n",
    "   \n",
    "   NOT operator truth table\n",
    "   \n",
    "   |Operator A|  |NOT Result|\n",
    "   |----------| |----------|\n",
    "   |False| |True|\n",
    "   |True| |False|"
   ]
  },
  {
   "cell_type": "code",
   "execution_count": null,
   "id": "2c3b888a",
   "metadata": {},
   "outputs": [],
   "source": []
  },
  {
   "cell_type": "markdown",
   "id": "696f38d9",
   "metadata": {},
   "source": [
    "4. What are the values of the following expressions? \n",
    "\n",
    "(5 > 4) and (3 == 5) = False\n",
    "\n",
    "not (5 > 4) = False\n",
    "\n",
    "(5 > 4) or (3 == 5) = True\n",
    "\n",
    "not ((5 > 4) or (3 == 5)) = False\n",
    "\n",
    "(True and True) and (True == False) = False \n",
    "\n",
    "(not False) or (not True) = True\n",
    "\n"
   ]
  },
  {
   "cell_type": "code",
   "execution_count": null,
   "id": "02e0c694",
   "metadata": {},
   "outputs": [],
   "source": []
  },
  {
   "cell_type": "markdown",
   "id": "ca21d427",
   "metadata": {},
   "source": [
    "5. What are the six comparison operators? \n",
    "\n",
    "Ans:\n",
    "less than ( < ),\n",
    "less than or equal to ( <= ),\n",
    "greater than ( > ),\n",
    "greater than or equal to ( >= ),\n",
    "equal to ( == ),\n",
    "not equal to ( != )."
   ]
  },
  {
   "cell_type": "code",
   "execution_count": null,
   "id": "4f4d1e06",
   "metadata": {},
   "outputs": [],
   "source": []
  },
  {
   "cell_type": "markdown",
   "id": "b089d488",
   "metadata": {},
   "source": [
    "6. How do you tell the difference between the equal to and assignment operators?Describe a condition and when you would use one. \n",
    "\n",
    "Ans: The “=” is an assignment operator is used to assign the value on the right to the variable on the left. \n",
    "\n",
    "The '==' operator checks whether the two given operands are equal or not. If so, it returns true."
   ]
  },
  {
   "cell_type": "code",
   "execution_count": null,
   "id": "07b6caa5",
   "metadata": {},
   "outputs": [],
   "source": []
  },
  {
   "cell_type": "markdown",
   "id": "d283d004",
   "metadata": {},
   "source": [
    "7. Identify the three blocks in this code: \n",
    "spam = 0 \n",
    "\n",
    "if spam == 10: \n",
    "\n",
    "print('eggs') \n",
    "\n",
    "if spam > 5: \n",
    "\n",
    "print('bacon') \n",
    "\n",
    "else: \n",
    "\n",
    "print('ham') \n",
    "\n",
    "print('spam') \n",
    "\n",
    "print('spam') \n"
   ]
  },
  {
   "cell_type": "markdown",
   "id": "5af31293",
   "metadata": {},
   "source": [
    "Ans:\n",
    "    First block:\n",
    "    \n",
    "        \n",
    "if spam == 10:\n",
    "\n",
    "    print('eggs') \n",
    "\n",
    "\n",
    "Second block\n",
    "\n",
    "if spam > 5:\n",
    "\n",
    "    print('bacon') \n",
    "\n",
    "\n",
    "Third block\n",
    "\n",
    "else: \n",
    "\n",
    "    print('ham') \n",
    "\n",
    "    print('spam') \n",
    "\n",
    "    print('spam') "
   ]
  },
  {
   "cell_type": "code",
   "execution_count": null,
   "id": "c4499763",
   "metadata": {},
   "outputs": [],
   "source": []
  },
  {
   "cell_type": "markdown",
   "id": "46405829",
   "metadata": {},
   "source": [
    "8. Write code that prints Hello if 1 is stored in spam, prints Howdy if 2 is stored in spam, and prints Greetings! if anything else is stored in spam. \n"
   ]
  },
  {
   "cell_type": "code",
   "execution_count": 2,
   "id": "7b826658",
   "metadata": {},
   "outputs": [
    {
     "name": "stdout",
     "output_type": "stream",
     "text": [
      "Enter a value to be stored in variable spam: 1\n",
      "Hello\n"
     ]
    }
   ],
   "source": [
    "spam=int(input('Enter a value to be stored in variable spam: '))\n",
    "if spam==1:\n",
    "    print(\"Hello\")\n",
    "elif spam==2:\n",
    "    print(\"Howdy\")\n",
    "else:\n",
    "    print(\"Greetings!\")"
   ]
  },
  {
   "cell_type": "code",
   "execution_count": null,
   "id": "9c3ffd61",
   "metadata": {},
   "outputs": [],
   "source": []
  },
  {
   "cell_type": "markdown",
   "id": "c1243399",
   "metadata": {},
   "source": [
    "9.If your programme is stuck in an endless loop, what keys you’ll press? \n"
   ]
  },
  {
   "cell_type": "markdown",
   "id": "bfcef011",
   "metadata": {},
   "source": [
    "Ans: CTRL + C"
   ]
  },
  {
   "cell_type": "code",
   "execution_count": null,
   "id": "2e6416bf",
   "metadata": {},
   "outputs": [],
   "source": []
  },
  {
   "cell_type": "markdown",
   "id": "f57f46e1",
   "metadata": {},
   "source": [
    "10. How can you tell the difference between break and continue? \n"
   ]
  },
  {
   "cell_type": "markdown",
   "id": "6eae560e",
   "metadata": {},
   "source": [
    "Ans:\n",
    "    ‘break’ will resume control of program to the end of loop enclosing that ‘break’.\n",
    "    The ‘continue’ will resume the control of the program to next iteration of that loop enclosing ‘continue'"
   ]
  },
  {
   "cell_type": "code",
   "execution_count": null,
   "id": "0d7b8090",
   "metadata": {},
   "outputs": [],
   "source": []
  },
  {
   "cell_type": "markdown",
   "id": "54656f9d",
   "metadata": {},
   "source": [
    "11. In a for loop, what is the difference between range(10), range(0, 10), and range(0, 10, 1)? \n",
    "\n",
    "Ans: \n",
    "range(10), range(0,10) and range(0,10,1) all means the same, just different way of representing numbers in the range of 0 to 9."
   ]
  },
  {
   "cell_type": "code",
   "execution_count": null,
   "id": "c5b4b052",
   "metadata": {},
   "outputs": [],
   "source": []
  },
  {
   "cell_type": "markdown",
   "id": "dfdeef26",
   "metadata": {},
   "source": [
    "12. Write a short program that prints the numbers 1 to 10 using a for loop. Then write an equivalent program that prints the numbers 1 to 10 using a while loop. \n"
   ]
  },
  {
   "cell_type": "code",
   "execution_count": 11,
   "id": "3e9d6322",
   "metadata": {},
   "outputs": [
    {
     "name": "stdout",
     "output_type": "stream",
     "text": [
      "1\n",
      "2\n",
      "3\n",
      "4\n",
      "5\n",
      "6\n",
      "7\n",
      "8\n",
      "9\n",
      "10\n"
     ]
    }
   ],
   "source": [
    "for i in range(1,11):\n",
    "    print(i)"
   ]
  },
  {
   "cell_type": "code",
   "execution_count": 13,
   "id": "42ec4365",
   "metadata": {},
   "outputs": [
    {
     "name": "stdout",
     "output_type": "stream",
     "text": [
      "1\n",
      "2\n",
      "3\n",
      "4\n",
      "5\n",
      "6\n",
      "7\n",
      "8\n",
      "9\n",
      "10\n"
     ]
    }
   ],
   "source": [
    "i=1\n",
    "while i<=10:\n",
    "    print(i)\n",
    "    i+=1"
   ]
  },
  {
   "cell_type": "markdown",
   "id": "98db39fc",
   "metadata": {},
   "source": [
    "13. If you had a function named bacon() inside a module named spam, how would you call it after importing spam? \n"
   ]
  },
  {
   "cell_type": "markdown",
   "id": "41c90461",
   "metadata": {},
   "source": [
    "Ans:\n",
    "    from spam import bacon\n",
    "    bacon(a)"
   ]
  },
  {
   "cell_type": "code",
   "execution_count": null,
   "id": "0236591d",
   "metadata": {},
   "outputs": [],
   "source": []
  }
 ],
 "metadata": {
  "kernelspec": {
   "display_name": "Python 3 (ipykernel)",
   "language": "python",
   "name": "python3"
  },
  "language_info": {
   "codemirror_mode": {
    "name": "ipython",
    "version": 3
   },
   "file_extension": ".py",
   "mimetype": "text/x-python",
   "name": "python",
   "nbconvert_exporter": "python",
   "pygments_lexer": "ipython3",
   "version": "3.9.7"
  }
 },
 "nbformat": 4,
 "nbformat_minor": 5
}
